{
 "cells": [
  {
   "cell_type": "code",
   "execution_count": 11,
   "id": "affc4bf2",
   "metadata": {
    "scrolled": true
   },
   "outputs": [],
   "source": [
    "# Import libraries\n",
    "from msedge.selenium_tools import Edge, EdgeOptions\n",
    "from selenium.webdriver.common.by import By\n",
    "from selenium.webdriver.common.keys import Keys  # keys allows sending keystrokes\n",
    "from selenium.webdriver.support.ui import WebDriverWait\n",
    "from selenium.webdriver.support import expected_conditions as EC\n",
    "import time"
   ]
  },
  {
   "cell_type": "code",
   "execution_count": 12,
   "id": "5a78b754",
   "metadata": {},
   "outputs": [],
   "source": [
    "# edge_path = 'C:\\Program Files (x86)\\Microsoft\\Edge\\Application\\msedge.exe'  # MS Edge location\n",
    "# driver_path = 'D:\\Environments\\msedgedriver.exe'  # MS Edge Driver location\n",
    "driver_path = \"D:\\Edge Webdriver\\edgedriver_win32\\msedgedriver.exe\"  # MS Edge Driver location\n",
    "options = EdgeOptions()  # EdgeOptions class object\n",
    "options.add_argument(\"--headless\")  # Use Selenium without showing browser window\n",
    "options.use_chromium = True  # Chromium Edge\n",
    "website = 'https://nyu.qualtrics.com/jfe/form/SV_ePNv0eXvGWgCxkq?'  # NYU Daily Screener"
   ]
  },
  {
   "cell_type": "code",
   "execution_count": 13,
   "id": "7db60cb3",
   "metadata": {},
   "outputs": [],
   "source": [
    "driver = Edge(driver_path, options=options)\n",
    "driver.get(website)\n",
    "wait_time = 2"
   ]
  },
  {
   "cell_type": "code",
   "execution_count": 14,
   "id": "96cc38a7",
   "metadata": {},
   "outputs": [],
   "source": [
    "# Landing Page of website/Page 1\n",
    "try:\n",
    "    next_button = WebDriverWait(driver, wait_time).until(\n",
    "        EC.presence_of_element_located((By.ID, \"NextButton\"))\n",
    "    )\n",
    "    next_button.click()\n",
    "except:\n",
    "    pass"
   ]
  },
  {
   "cell_type": "code",
   "execution_count": 15,
   "id": "96ee7030",
   "metadata": {},
   "outputs": [],
   "source": [
    "# Page 2: Have NetID and Pass?\n",
    "# Check radio button saying 'Yes'\n",
    "# time.sleep(5)\n",
    "# yes_check_box = driver.find_element_by_id(\"QID2-1-label\").click()\n",
    "try:\n",
    "    yes_check_box = WebDriverWait(driver, wait_time).until(\n",
    "        EC.presence_of_element_located((By.ID, \"QID2-1-label\"))\n",
    "    )\n",
    "    yes_check_box.click()\n",
    "except:\n",
    "    pass"
   ]
  },
  {
   "cell_type": "code",
   "execution_count": 16,
   "id": "76394b89",
   "metadata": {},
   "outputs": [],
   "source": [
    "# Page 2: Have NetID and Pass?\n",
    "# Click 'Next' to move onto next page/SSO Page\n",
    "# time.sleep(5)\n",
    "# next_page_2 = driver.find_element_by_id(\"NextButton\").click()\n",
    "try:\n",
    "    next_page_2 = WebDriverWait(driver, wait_time).until(\n",
    "        EC.presence_of_element_located((By.ID, \"NextButton\"))\n",
    "    )\n",
    "    next_page_2.click()\n",
    "except:\n",
    "    pass"
   ]
  },
  {
   "cell_type": "code",
   "execution_count": 17,
   "id": "6f9b8658",
   "metadata": {},
   "outputs": [],
   "source": [
    "# NYU Credentials\n",
    "NET_ID = 'sb7693'\n",
    "PASS = 'NG@;pdftm@.'"
   ]
  },
  {
   "cell_type": "code",
   "execution_count": 18,
   "id": "45f0fb6f",
   "metadata": {},
   "outputs": [],
   "source": [
    "# Page 3: Input NetID and Pass\n",
    "# Input NetID\n",
    "# time.sleep(5)\n",
    "# input_net_id = driver.find_element_by_id(\"username\").send_keys(NET_ID)\n",
    "try:\n",
    "    input_net_id = WebDriverWait(driver, wait_time).until(\n",
    "        EC.presence_of_element_located((By.ID, \"username\"))\n",
    "    )\n",
    "    input_net_id.send_keys(NET_ID)\n",
    "except:\n",
    "    pass"
   ]
  },
  {
   "cell_type": "code",
   "execution_count": 19,
   "id": "2c0e5cbd",
   "metadata": {},
   "outputs": [],
   "source": [
    "# Page 3: Input NetID and Pass\n",
    "# Input password\n",
    "# time.sleep(5)\n",
    "# input_password = driver.find_element_by_id(\"password\").send_keys(PASS)\n",
    "try:\n",
    "    input_password = WebDriverWait(driver, wait_time).until(\n",
    "        EC.presence_of_element_located((By.ID, \"password\"))\n",
    "    )\n",
    "    input_password.send_keys(PASS)\n",
    "except:\n",
    "    pass"
   ]
  },
  {
   "cell_type": "code",
   "execution_count": 20,
   "id": "44fee361",
   "metadata": {},
   "outputs": [],
   "source": [
    "# Page 3: Input NetID and Pass\n",
    "# Click Login\n",
    "# time.sleep(5)\n",
    "# click_login = driver.find_element_by_name('_eventId_proceed').click()\n",
    "try:\n",
    "    click_login = WebDriverWait(driver, wait_time).until(\n",
    "        EC.presence_of_element_located((By.NAME, \"_eventId_proceed\"))\n",
    "    )\n",
    "    click_login.click()\n",
    "except:\n",
    "    pass"
   ]
  },
  {
   "cell_type": "code",
   "execution_count": 21,
   "id": "5033cfe8",
   "metadata": {},
   "outputs": [],
   "source": [
    "# End session\n",
    "driver.quit()"
   ]
  }
 ],
 "metadata": {
  "kernelspec": {
   "display_name": "Python 3 (ipykernel)",
   "language": "python",
   "name": "python3"
  },
  "language_info": {
   "codemirror_mode": {
    "name": "ipython",
    "version": 3
   },
   "file_extension": ".py",
   "mimetype": "text/x-python",
   "name": "python",
   "nbconvert_exporter": "python",
   "pygments_lexer": "ipython3",
   "version": "3.9.7"
  }
 },
 "nbformat": 4,
 "nbformat_minor": 5
}
